{
 "cells": [
  {
   "cell_type": "code",
   "execution_count": 10,
   "id": "psychological-april",
   "metadata": {},
   "outputs": [
    {
     "data": {
      "image/png": "[encoded data removed]",
      "text/plain": [
       "<Figure size 432x288 with 1 Axes>"
      ]
     },
     "metadata": {
      "needs_background": "light"
     },
     "output_type": "display_data"
    }
   ],
   "source": [
    "import matplotlib.pyplot as plt \n",
    "\n",
    "data = [1,11,21,31,41,51]\n",
    "\n",
    "plt.hist(data,bins=[0,10,20,30,40,50, 60],weights=[20,10,45,33,6,8],edgecolor=\"red\",histtype='step')\n",
    "\n",
    "#plt.hist(data, bins=20, histtype='step') \n",
    "plt.xlabel('Value') \n",
    "plt.ylabel('Probability') \n",
    "plt.title('Histogram')\n",
    "plt.show()\n"
   ]
  },
  {
   "cell_type": "code",
   "execution_count": null,
   "id": "intimate-functionality",
   "metadata": {},
   "outputs": [],
   "source": []
  }
 ],
 "metadata": {
  "kernelspec": {
   "display_name": "Python 3",
   "language": "python",
   "name": "python3"
  },
  "language_info": {
   "codemirror_mode": {
    "name": "ipython",
    "version": 3
   },
   "file_extension": ".py",
   "mimetype": "text/x-python",
   "name": "python",
   "nbconvert_exporter": "python",
   "pygments_lexer": "ipython3",
   "version": "3.9.1"
  }
 },
 "nbformat": 4,
 "nbformat_minor": 5
}
