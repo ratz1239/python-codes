{
 "cells": [
  {
   "cell_type": "code",
   "execution_count": 17,
   "id": "posted-composite",
   "metadata": {},
   "outputs": [
    {
     "data": {
      "image/png": "[encoded data removed]",
      "text/plain": [
       "<Figure size 432x288 with 1 Axes>"
      ]
     },
     "metadata": {
      "needs_background": "light"
     },
     "output_type": "display_data"
    }
   ],
   "source": [
    "import matplotlib.pyplot as plt\n",
    "\n",
    "value1 = [72,76,24,40,57,62,75,78,31,32] \n",
    "value2=[62,5,91,25,36,32,96,95,30,90] \n",
    "value3=[23,89,12,78,72,89,25,69,68,86] \n",
    "value4=[99,73,70,16,81,61,88,98,10,87]\n",
    "\n",
    "box_plot_data=[value1,value2,value3,value4] \n",
    "\n",
    "box=plt.boxplot(box_plot_data,vert=1,patch_artist= True,labels=['course1','course2','course3','course4'])\n",
    "\n",
    "colors = ['cyan', 'lightblue', 'lightgreen', 'tan'] \n",
    "\n",
    "for patch, color in zip(box['boxes'], colors):\n",
    "    patch.set_facecolor(color) \n",
    "plt.show()\n"
   ]
  },
  {
   "cell_type": "code",
   "execution_count": 10,
   "id": "confused-horizon",
   "metadata": {},
   "outputs": [
    {
     "data": {
      "image/png": "[encoded data removed]",
      "text/plain": [
       "<Figure size 432x288 with 1 Axes>"
      ]
     },
     "metadata": {
      "needs_background": "light"
     },
     "output_type": "display_data"
    }
   ],
   "source": [
    "import matplotlib.pyplot as plt\n",
    "\n",
    "value1 = [72,76,24,40,57,62,75,78,31,32] \n",
    "value2=[62,5,91,25,36,32,96,95,30,90] \n",
    "value3=[23,89,12,78,72,89,25,69,68,86] \n",
    "value4=[99,73,70,16,81,61,88,98,10,87]\n",
    "\n",
    "box_plot_data=[value1,value2,value3,value4] \n",
    "\n",
    "box=plt.boxplot(box_plot_data,vert=0,patch_artist= True,labels=['course1','course2','course3','course4'])\n",
    "colors = ['cyan', 'lightblue', 'lightgreen', 'tan'] \n",
    "for patch, color in zip(box['boxes'], colors):\n",
    "    patch.set_facecolor(color) \n",
    "plt.show()"
   ]
  },
  {
   "cell_type": "code",
   "execution_count": null,
   "id": "impossible-receiver",
   "metadata": {},
   "outputs": [],
   "source": []
  }
 ],
 "metadata": {
  "kernelspec": {
   "display_name": "Python 3",
   "language": "python",
   "name": "python3"
  },
  "language_info": {
   "codemirror_mode": {
    "name": "ipython",
    "version": 3
   },
   "file_extension": ".py",
   "mimetype": "text/x-python",
   "name": "python",
   "nbconvert_exporter": "python",
   "pygments_lexer": "ipython3",
   "version": "3.9.1"
  }
 },
 "nbformat": 4,
 "nbformat_minor": 5
}
